{
 "cells": [
  {
   "cell_type": "code",
   "execution_count": 22,
   "id": "d6f1af5d",
   "metadata": {},
   "outputs": [],
   "source": [
    "import os\n",
    "import torch\n",
    "import torch.nn as nn\n",
    "import torch.optim as optim\n",
    "from torchvision import transforms\n",
    "from torch.utils.data import Dataset, DataLoader\n",
    "from PIL import Image\n",
    "import numpy as np\n",
    "from skimage import color\n",
    "import random\n"
   ]
  },
  {
   "cell_type": "code",
   "execution_count": 23,
   "id": "da6af4c0",
   "metadata": {},
   "outputs": [],
   "source": [
    "\n",
    "class ColorizationModel(nn.Module):\n",
    "    def __init__(self):\n",
    "        super().__init__()\n",
    "        self.encoder = nn.Sequential(\n",
    "            nn.Conv2d(1, 64, 3, padding=1),\n",
    "            nn.ReLU(),\n",
    "            nn.Conv2d(64, 64, 3, stride=2, padding=1),\n",
    "            nn.ReLU(),\n",
    "            nn.Conv2d(64, 128, 3, padding=1),\n",
    "            nn.ReLU(),\n",
    "            nn.Conv2d(128, 128, 3, stride=2, padding=1),\n",
    "            nn.ReLU(),\n",
    "            nn.Conv2d(128, 256, 3, padding=1),\n",
    "            nn.ReLU(),\n",
    "            nn.AdaptiveAvgPool2d((64, 64))  # Адаптивный пуллинг\n",
    "        )\n",
    "        \n",
    "        self.decoder = nn.Sequential(\n",
    "            nn.Upsample(scale_factor=2),\n",
    "            nn.Conv2d(256, 128, 3, padding=1),\n",
    "            nn.ReLU(),\n",
    "            nn.Upsample(scale_factor=2),\n",
    "            nn.Conv2d(128, 64, 3, padding=1),\n",
    "            nn.ReLU(),\n",
    "            nn.Conv2d(64, 32, 3, padding=1),\n",
    "            nn.ReLU(),\n",
    "            nn.Conv2d(32, 2, 1),\n",
    "            nn.Tanh()\n",
    "        )\n",
    "\n",
    "    def forward(self, x):\n",
    "        x = self.encoder(x)\n",
    "        x = self.decoder(x)\n",
    "        return x\n",
    "\n",
    "\n",
    "\n"
   ]
  },
  {
   "cell_type": "code",
   "execution_count": 40,
   "id": "f5adb11c",
   "metadata": {},
   "outputs": [],
   "source": [
    "class Trainer:\n",
    "    def __init__(self, model, device):\n",
    "        self.model = model.to(device)\n",
    "        self.device = device\n",
    "        self.transform = transforms.Compose([\n",
    "            transforms.Resize((256, 256)),\n",
    "            transforms.RandomHorizontalFlip(),\n",
    "            transforms.RandomRotation(15),\n",
    "            transforms.ColorJitter(brightness=0.2, contrast=0.2),\n",
    "            transforms.RandomResizedCrop(256, scale=(0.8, 1.0))\n",
    "        ])\n",
    "\n",
    "    def fit(self, train_loader, val_loader, learning_rate=1e-4, epochs=100):\n",
    "        criterion = nn.MSELoss()\n",
    "        optimizer = optim.Adam(self.model.parameters(), lr=learning_rate)\n",
    "\n",
    "        for epoch in range(epochs):\n",
    "            self.model.train()\n",
    "            train_loss = 0.0\n",
    "            for L, ab in train_loader:\n",
    "                L = L.to(self.device)\n",
    "                ab = ab.to(self.device)\n",
    "                \n",
    "                optimizer.zero_grad()\n",
    "                pred_ab = self.model(L)\n",
    "                loss = criterion(pred_ab, ab)\n",
    "                loss.backward()\n",
    "                optimizer.step()\n",
    "                \n",
    "                train_loss += loss.item()\n",
    "            \n",
    "            self.model.eval()\n",
    "            val_loss = 0.0\n",
    "            if val_loader is not None:\n",
    "                with torch.no_grad():\n",
    "                    for L, ab in val_loader:\n",
    "                        L = L.to(self.device)\n",
    "                        ab = ab.to(self.device)\n",
    "                        pred_ab = self.model(L)\n",
    "                        val_loss += criterion(pred_ab, ab).item()\n",
    "            \n",
    "            print(f'Epoch {epoch+1}/{epochs}')\n",
    "            print(f'Train Loss: {train_loss/len(train_loader):.4f} | Val Loss: 0')\n",
    "        \n",
    "        torch.save(self.model.state_dict(), 'colorization_model.pth')\n",
    "    def predict(self, image_path):\n",
    "        self.model.eval()\n",
    "        \n",
    "        # Загружаем изображение как RGB\n",
    "        image = Image.open(image_path).convert(\"RGB\")\n",
    "        \n",
    "        # Применяем детерминированные преобразования (не случайные!)\n",
    "        transform = transforms.Compose([\n",
    "            transforms.Resize((256, 256)),\n",
    "            transforms.ToTensor()\n",
    "        ])\n",
    "        \n",
    "        image_tensor = transform(image)  # [3, H, W], range [0, 1]\n",
    "        \n",
    "        # Конвертируем в LAB\n",
    "        img_np = image_tensor.permute(1, 2, 0).numpy()  # [H, W, 3]\n",
    "        lab_img = color.rgb2lab(img_np)  # LAB in range L: [0, 100], a,b: [-128, 127]\n",
    "\n",
    "        # Берем только L канал\n",
    "        L = lab_img[:, :, 0]\n",
    "        L_tensor = torch.from_numpy(L).unsqueeze(0).unsqueeze(0).float().to(self.device)  # [1, 1, H, W]\n",
    "\n",
    "        # Нормализуем L в диапазон [-1, 1] (как во время обучения)\n",
    "        L_normalized = L_tensor / 50.0 - 1.0\n",
    "\n",
    "        # Предсказываем ab\n",
    "        with torch.no_grad():\n",
    "            pred_ab = self.model(L_normalized).cpu()  # [1, 2, H, W]\n",
    "\n",
    "        # Денормализуем ab\n",
    "        pred_ab = pred_ab * 110.0  # ab range [-110, 110]\n",
    "\n",
    "        # Восстанавливаем LAB\n",
    "        L_restored = (L_normalized.cpu() + 1.0) * 50.0  # Back to [0, 100]\n",
    "        lab_pred = torch.cat([L_restored, pred_ab], dim=1)  # [1, 3, H, W]\n",
    "        lab_pred = lab_pred.squeeze().permute(1, 2, 0).numpy()\n",
    "\n",
    "        # Обрезаем значения до допустимых диапазонов\n",
    "        lab_pred[:, :, 0] = np.clip(lab_pred[:, :, 0], 0, 100)\n",
    "        lab_pred[:, :, 1:] = np.clip(lab_pred[:, :, 1:], -128, 127)\n",
    "\n",
    "        # Конвертируем обратно в RGB\n",
    "        rgb_pred = color.lab2rgb(lab_pred)\n",
    "        rgb_pred = (rgb_pred * 255).astype(np.uint8)\n",
    "\n",
    "        return Image.fromarray(rgb_pred)"
   ]
  },
  {
   "cell_type": "code",
   "execution_count": 41,
   "id": "cd119003",
   "metadata": {},
   "outputs": [],
   "source": [
    "\n",
    "class ColorizationDataset(Dataset):\n",
    "    def __init__(self, paths, output_size=(256, 256)):  # <-- Добавлен конструктор\n",
    "        self.paths = paths\n",
    "        self.output_size = output_size\n",
    "        self.transform = transforms.Compose([\n",
    "            transforms.RandomHorizontalFlip(),\n",
    "            transforms.RandomRotation(15),\n",
    "            transforms.ColorJitter(brightness=0.2, contrast=0.2)\n",
    "        ])\n",
    "\n",
    "    def __getitem__(self, idx):\n",
    "        try:\n",
    "            img = Image.open(self.paths[idx]).convert('RGB')\n",
    "            \n",
    "            # Адаптивное изменение размера\n",
    "            if min(img.size) < 256:\n",
    "                img = transforms.Resize(256)(img)\n",
    "                \n",
    "            # Случайное кадрирование\n",
    "            i, j, h, w = transforms.RandomCrop.get_params(\n",
    "                img, output_size=self.output_size\n",
    "            )\n",
    "            img = transforms.functional.crop(img, i, j, h, w)\n",
    "            \n",
    "            # Применение аугментаций\n",
    "            img = self.transform(img)\n",
    "            \n",
    "            # Преобразование в LAB\n",
    "            img_lab = color.rgb2lab(np.asarray(img))  # <-- Используем np.asarray\n",
    "            img_lab = torch.from_numpy(img_lab).float()  # <-- Явное преобразование\n",
    "            img_lab = img_lab.permute(2, 0, 1)  # (H, W, C) -> (C, H, W)\n",
    "            \n",
    "            L = img_lab[0:1, :, :] / 50.0 - 1.0\n",
    "            ab = img_lab[1:3, :, :] / 110.0\n",
    "            return L.float(), ab.float()\n",
    "            \n",
    "        except Exception as e:\n",
    "            print(f\"Ошибка загрузки {self.paths[idx]}: {e}\")\n",
    "            return None\n",
    "\n",
    "    def __len__(self):\n",
    "        return len(self.paths)"
   ]
  },
  {
   "cell_type": "code",
   "execution_count": 42,
   "id": "c637be29",
   "metadata": {},
   "outputs": [
    {
     "name": "stdout",
     "output_type": "stream",
     "text": [
      "Используется устройство: cpu\n"
     ]
    }
   ],
   "source": [
    "device = torch.device(\"cuda\" if torch.cuda.is_available() else \"cpu\")\n",
    "print(f\"Используется устройство: {device}\")"
   ]
  },
  {
   "cell_type": "code",
   "execution_count": 43,
   "id": "f8abbe24",
   "metadata": {},
   "outputs": [],
   "source": [
    "data_root = \"C:/Users/mr_bs/.cache/kagglehub/datasets/nelyg8002000/commercial-aircraft-dataset/versions/1/1_Liner TF\"\n",
    "train_paths = [os.path.join(data_root, fname) for fname in os.listdir(data_root)]"
   ]
  },
  {
   "cell_type": "code",
   "execution_count": 44,
   "id": "ed583ade",
   "metadata": {},
   "outputs": [],
   "source": [
    "train_dataset = ColorizationDataset(train_paths[:100])\n",
    "train_loader = DataLoader(train_dataset, batch_size=8, shuffle=True)"
   ]
  },
  {
   "cell_type": "code",
   "execution_count": 45,
   "id": "0787fe40",
   "metadata": {},
   "outputs": [],
   "source": [
    "model = ColorizationModel()\n",
    "trainer = Trainer(model, device)"
   ]
  },
  {
   "cell_type": "code",
   "execution_count": 46,
   "id": "6bea2387",
   "metadata": {},
   "outputs": [
    {
     "name": "stdout",
     "output_type": "stream",
     "text": [
      "Epoch 1/3\n",
      "Train Loss: 0.0194 | Val Loss: 0\n",
      "Epoch 2/3\n",
      "Train Loss: 0.0129 | Val Loss: 0\n",
      "Epoch 3/3\n",
      "Train Loss: 0.0116 | Val Loss: 0\n"
     ]
    }
   ],
   "source": [
    "trainer.fit(train_loader, val_loader=None, learning_rate=1e-4, epochs=3)  # Добавьте val_loader"
   ]
  },
  {
   "cell_type": "code",
   "execution_count": null,
   "id": "4d5440b5",
   "metadata": {},
   "outputs": [],
   "source": [
    "example = ColorizationDataset([\"TF_PLANE_198.jpg\"])"
   ]
  },
  {
   "cell_type": "code",
   "execution_count": 49,
   "id": "2e682535",
   "metadata": {},
   "outputs": [],
   "source": [
    "colorized = trainer.predict(\"TF_PLANE_100.jpg\")\n",
    "colorized.show()"
   ]
  },
  {
   "cell_type": "code",
   "execution_count": null,
   "id": "5cbcb619",
   "metadata": {},
   "outputs": [],
   "source": []
  }
 ],
 "metadata": {
  "kernelspec": {
   "display_name": "Python 3",
   "language": "python",
   "name": "python3"
  },
  "language_info": {
   "codemirror_mode": {
    "name": "ipython",
    "version": 3
   },
   "file_extension": ".py",
   "mimetype": "text/x-python",
   "name": "python",
   "nbconvert_exporter": "python",
   "pygments_lexer": "ipython3",
   "version": "3.13.3"
  }
 },
 "nbformat": 4,
 "nbformat_minor": 5
}
