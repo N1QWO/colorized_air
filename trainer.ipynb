{
 "cells": [
  {
   "cell_type": "code",
   "execution_count": 11,
   "id": "6206d44c",
   "metadata": {},
   "outputs": [],
   "source": [
    "import os\n",
    "import torch\n",
    "from torch.utils.data import DataLoader\n",
    "from model import ColorizationModel\n",
    "from dataset import ColorizationDataset\n",
    "from trainer import Trainer\n",
    "from utils import visualize_prediction"
   ]
  },
  {
   "cell_type": "markdown",
   "id": "16c180e2",
   "metadata": {},
   "source": [
    "C:\\Users\\nikit\\.cache\\kagglehub\\datasets\\nelyg8002000\\commercial-aircraft-dataset\\versions\\1\n"
   ]
  },
  {
   "cell_type": "code",
   "execution_count": 12,
   "id": "4a96ea24",
   "metadata": {},
   "outputs": [
    {
     "name": "stdout",
     "output_type": "stream",
     "text": [
      "Используется устройство: cuda\n"
     ]
    }
   ],
   "source": [
    "device = torch.device(\"cuda\" if torch.cuda.is_available() else \"cpu\")\n",
    "print(f\"Используется устройство: {device}\")"
   ]
  },
  {
   "cell_type": "code",
   "execution_count": 13,
   "id": "dbaa545a",
   "metadata": {},
   "outputs": [],
   "source": [
    "# Укажите путь к папке с изображениями\n",
    "data_root = \"C:/Users/nikit/.cache/kagglehub/datasets/nelyg8002000/commercial-aircraft-dataset/versions/1/1_Liner_TF\" \n",
    "\n",
    "# Получаем список всех изображений\n",
    "train_paths = [os.path.join(data_root, fname) for fname in os.listdir(data_root) if fname.endswith(('.jpg', '.png'))]\n",
    "\n",
    "# Создаем датасет и загрузчик\n",
    "train_dataset = ColorizationDataset(train_paths)\n",
    "train_loader = DataLoader(train_dataset, batch_size=8, shuffle=True)"
   ]
  },
  {
   "cell_type": "code",
   "execution_count": 14,
   "id": "e3a58f70",
   "metadata": {},
   "outputs": [],
   "source": [
    "model = ColorizationModel()\n",
    "trainer = Trainer(model, device)"
   ]
  },
  {
   "cell_type": "code",
   "execution_count": 15,
   "id": "0cadb3e2",
   "metadata": {},
   "outputs": [
    {
     "name": "stderr",
     "output_type": "stream",
     "text": [
      "Epoch 1/1: 100%|██████████| 818/818 [03:20<00:00,  4.07it/s, loss=0.0263]"
     ]
    },
    {
     "name": "stdout",
     "output_type": "stream",
     "text": [
      "Epoch [1/1], Loss: 0.0656\n",
      "Модель сохранена: models/colorization_model.pth\n"
     ]
    },
    {
     "name": "stderr",
     "output_type": "stream",
     "text": [
      "\n"
     ]
    }
   ],
   "source": [
    "# Запуск обучения (например, 20 эпох)\n",
    "trainer.fit(train_loader, epochs=1)"
   ]
  },
  {
   "cell_type": "code",
   "execution_count": 16,
   "id": "880a3eee",
   "metadata": {},
   "outputs": [
    {
     "ename": "AttributeError",
     "evalue": "'ColorizationModel' object has no attribute 'model'",
     "output_type": "error",
     "traceback": [
      "\u001b[1;31m---------------------------------------------------------------------------\u001b[0m",
      "\u001b[1;31mAttributeError\u001b[0m                            Traceback (most recent call last)",
      "Cell \u001b[1;32mIn[16], line 2\u001b[0m\n\u001b[0;32m      1\u001b[0m \u001b[38;5;66;03m# Проверьте предсказание на примере\u001b[39;00m\n\u001b[1;32m----> 2\u001b[0m \u001b[43mvisualize_prediction\u001b[49m\u001b[43m(\u001b[49m\u001b[43mmodel\u001b[49m\u001b[43m,\u001b[49m\u001b[43m \u001b[49m\u001b[38;5;124;43m\"\u001b[39;49m\u001b[38;5;124;43mTF_PLANE_36.jpg\u001b[39;49m\u001b[38;5;124;43m\"\u001b[39;49m\u001b[43m,\u001b[49m\u001b[43m \u001b[49m\u001b[43mdevice\u001b[49m\u001b[43m)\u001b[49m\n",
      "File \u001b[1;32md:\\pg\\colorized_air\\utils.py:11\u001b[0m, in \u001b[0;36mvisualize_prediction\u001b[1;34m(model_trainer, image_path, device)\u001b[0m\n\u001b[0;32m     10\u001b[0m \u001b[38;5;28;01mdef\u001b[39;00m \u001b[38;5;21mvisualize_prediction\u001b[39m(model, image_path, device):\n\u001b[1;32m---> 11\u001b[0m     model\u001b[38;5;241m.\u001b[39meval()\n\u001b[0;32m     12\u001b[0m     model\u001b[38;5;241m.\u001b[39mto(device)  \u001b[38;5;66;03m# гарантируем, что модель на нужном устройстве\u001b[39;00m\n\u001b[0;32m     14\u001b[0m     \u001b[38;5;28;01mwith\u001b[39;00m torch\u001b[38;5;241m.\u001b[39mno_grad():\n",
      "File \u001b[1;32mc:\\Users\\nikit\\AppData\\Local\\Programs\\Python\\Python311\\Lib\\site-packages\\torch\\nn\\modules\\module.py:1940\u001b[0m, in \u001b[0;36mModule.__getattr__\u001b[1;34m(self, name)\u001b[0m\n\u001b[0;32m   1938\u001b[0m     \u001b[38;5;28;01mif\u001b[39;00m name \u001b[38;5;129;01min\u001b[39;00m modules:\n\u001b[0;32m   1939\u001b[0m         \u001b[38;5;28;01mreturn\u001b[39;00m modules[name]\n\u001b[1;32m-> 1940\u001b[0m \u001b[38;5;28;01mraise\u001b[39;00m \u001b[38;5;167;01mAttributeError\u001b[39;00m(\n\u001b[0;32m   1941\u001b[0m     \u001b[38;5;124mf\u001b[39m\u001b[38;5;124m\"\u001b[39m\u001b[38;5;124m'\u001b[39m\u001b[38;5;132;01m{\u001b[39;00m\u001b[38;5;28mtype\u001b[39m(\u001b[38;5;28mself\u001b[39m)\u001b[38;5;241m.\u001b[39m\u001b[38;5;18m__name__\u001b[39m\u001b[38;5;132;01m}\u001b[39;00m\u001b[38;5;124m'\u001b[39m\u001b[38;5;124m object has no attribute \u001b[39m\u001b[38;5;124m'\u001b[39m\u001b[38;5;132;01m{\u001b[39;00mname\u001b[38;5;132;01m}\u001b[39;00m\u001b[38;5;124m'\u001b[39m\u001b[38;5;124m\"\u001b[39m\n\u001b[0;32m   1942\u001b[0m )\n",
      "\u001b[1;31mAttributeError\u001b[0m: 'ColorizationModel' object has no attribute 'model'"
     ]
    }
   ],
   "source": [
    "# Проверьте предсказание на примере\n",
    "visualize_prediction(model, \"TF_PLANE_36.jpg\", device)"
   ]
  },
  {
   "cell_type": "code",
   "execution_count": null,
   "id": "cbfa31ef",
   "metadata": {},
   "outputs": [],
   "source": []
  }
 ],
 "metadata": {
  "kernelspec": {
   "display_name": "Python 3",
   "language": "python",
   "name": "python3"
  },
  "language_info": {
   "codemirror_mode": {
    "name": "ipython",
    "version": 3
   },
   "file_extension": ".py",
   "mimetype": "text/x-python",
   "name": "python",
   "nbconvert_exporter": "python",
   "pygments_lexer": "ipython3",
   "version": "3.11.9"
  }
 },
 "nbformat": 4,
 "nbformat_minor": 5
}
